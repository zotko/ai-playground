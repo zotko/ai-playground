{
 "cells": [
  {
   "cell_type": "code",
   "execution_count": null,
   "id": "e574f1c4",
   "metadata": {},
   "outputs": [],
   "source": [
    "import getpass\n",
    "import os\n",
    "\n",
    "if \"GOOGLE_API_KEY\" not in os.environ:\n",
    "    os.environ[\"GOOGLE_API_KEY\"] = getpass.getpass(\"Enter your Google API key: \")"
   ]
  },
  {
   "cell_type": "code",
   "execution_count": null,
   "id": "50367fca",
   "metadata": {},
   "outputs": [
    {
     "data": {
      "text/plain": [
       "'The grass is **green**.'"
      ]
     },
     "execution_count": null,
     "metadata": {},
     "output_type": "execute_result"
    }
   ],
   "source": [
    "# LLM interface\n",
    "from langchain_google_genai.llms import GoogleGenerativeAI\n",
    "\n",
    "model = GoogleGenerativeAI(model=\"gemini-2.0-flash\")\n",
    "model.invoke(\"The grass is\")"
   ]
  },
  {
   "cell_type": "code",
   "execution_count": null,
   "id": "a93dda95",
   "metadata": {},
   "outputs": [
    {
     "data": {
      "text/plain": [
       "AIMessage(content='The capital of Germany is **Berlin**.', additional_kwargs={}, response_metadata={'prompt_feedback': {'block_reason': 0, 'safety_ratings': []}, 'finish_reason': 'STOP', 'model_name': 'gemini-2.0-flash', 'safety_ratings': []}, id='run--28602790-8db6-459d-9eee-40c0f842c4a0-0', usage_metadata={'input_tokens': 7, 'output_tokens': 9, 'total_tokens': 16, 'input_token_details': {'cache_read': 0}})"
      ]
     },
     "execution_count": null,
     "metadata": {},
     "output_type": "execute_result"
    }
   ],
   "source": [
    "# Chat interface\n",
    "from langchain_google_genai import ChatGoogleGenerativeAI\n",
    "from langchain_core.messages import HumanMessage, SystemMessage\n",
    "\n",
    "model = ChatGoogleGenerativeAI(model=\"gemini-2.0-flash\")\n",
    "prompt = [HumanMessage(content=\"What is the capital of Germany?\")]\n",
    "model.invoke(prompt)"
   ]
  },
  {
   "cell_type": "code",
   "execution_count": null,
   "id": "30168408",
   "metadata": {},
   "outputs": [
    {
     "data": {
      "text/plain": [
       "AIMessage(content='**The capital of Germany is Berlin.**', additional_kwargs={}, response_metadata={'prompt_feedback': {'block_reason': 0, 'safety_ratings': []}, 'finish_reason': 'STOP', 'model_name': 'gemini-2.0-flash', 'safety_ratings': []}, id='run--e08d2873-75d5-4094-91dd-e9e787831919-0', usage_metadata={'input_tokens': 20, 'output_tokens': 9, 'total_tokens': 29, 'input_token_details': {'cache_read': 0}})"
      ]
     },
     "execution_count": null,
     "metadata": {},
     "output_type": "execute_result"
    }
   ],
   "source": [
    "# Roles: HumanMessage, AIMessage, SystemMessage, ChatMessage\n",
    "system_msg = SystemMessage(\n",
    "    \"You are a helpful assistant who responds to questions using bold text.\"\n",
    ")\n",
    "human_msg = HumanMessage(\"What is the capital of Germany?\")\n",
    "prompt = [system_msg, human_msg]\n",
    "model.invoke(prompt)"
   ]
  },
  {
   "cell_type": "code",
   "execution_count": null,
   "id": "2f74e370",
   "metadata": {},
   "outputs": [
    {
     "data": {
      "text/plain": [
       "StringPromptValue(text='Summarize the following text in 1 sentence. \\nIf the text is too short or lacks meaningful content, respond with \"Not enough information to summarize.\"\\n\\nText: LangChain is a software framework that helps facilitate the integration of large language models (LLMs) into applications.\\n    As a language model integration framework, LangChain\\'s use-cases largely overlap with those of language models in general, including document analysis and summarization, chatbots, and code analysis.\\n\\nSummary: ')"
      ]
     },
     "execution_count": null,
     "metadata": {},
     "output_type": "execute_result"
    }
   ],
   "source": [
    "# Templates make prompts reusable\n",
    "from langchain_core.prompts import PromptTemplate\n",
    "\n",
    "template = PromptTemplate.from_template(\n",
    "    \"\"\"Summarize the following text in 1 sentence. \n",
    "If the text is too short or lacks meaningful content, respond with \"Not enough information to summarize.\"\n",
    "\n",
    "Text: {text}\n",
    "\n",
    "Summary: \"\"\"\n",
    ")\n",
    "\n",
    "# Example input\n",
    "template.invoke(\n",
    "    {\n",
    "        \"text\": \"\"\"LangChain is a software framework that helps facilitate the integration of large language models (LLMs) into applications.\n",
    "    As a language model integration framework, LangChain's use-cases largely overlap with those of language models in general, including document analysis and summarization, chatbots, and code analysis.\"\"\"\n",
    "    }\n",
    ")"
   ]
  },
  {
   "cell_type": "code",
   "execution_count": null,
   "id": "09fbd218",
   "metadata": {},
   "outputs": [
    {
     "data": {
      "text/plain": [
       "StringPromptValue(text='Use the following context to answer \\n    the question. If the answer is not available in the context, respond with \\n    \"Not enough information provided\".\\n\\nContext: Video games come in many genres. Action games focus on fast \\n        movement and quick reflexes. Puzzle games require players to think and \\n        solve problems. Role-playing games, or RPGs, let players explore worlds \\n        and complete quests as different characters.\\n\\nQuestion: What type of games involve solving problems?\\n\\nAnswer: ')"
      ]
     },
     "execution_count": null,
     "metadata": {},
     "output_type": "execute_result"
    }
   ],
   "source": [
    "template = PromptTemplate.from_template(\n",
    "    \"\"\"Use the following context to answer \n",
    "    the question. If the answer is not available in the context, respond with \n",
    "    \"Not enough information provided\".\n",
    "\n",
    "Context: {context}\n",
    "\n",
    "Question: {question}\n",
    "\n",
    "Answer: \"\"\"\n",
    ")\n",
    "\n",
    "prompt = template.invoke(\n",
    "    {\n",
    "        \"context\": \"\"\"Video games come in many genres. Action games focus on fast \n",
    "        movement and quick reflexes. Puzzle games require players to think and \n",
    "        solve problems. Role-playing games, or RPGs, let players explore worlds \n",
    "        and complete quests as different characters.\"\"\",\n",
    "        \"question\": \"What type of games involve solving problems?\",\n",
    "    }\n",
    ")\n",
    "\n",
    "prompt"
   ]
  },
  {
   "cell_type": "code",
   "execution_count": null,
   "id": "83355f9f",
   "metadata": {},
   "outputs": [
    {
     "data": {
      "text/plain": [
       "'Puzzle games'"
      ]
     },
     "execution_count": null,
     "metadata": {},
     "output_type": "execute_result"
    }
   ],
   "source": [
    "model.invoke(prompt)"
   ]
  },
  {
   "cell_type": "code",
   "execution_count": null,
   "id": "cc23787f",
   "metadata": {},
   "outputs": [
    {
     "data": {
      "text/plain": [
       "ChatPromptValue(messages=[SystemMessage(content='Answer the question based on the context below. If the \\n        question cannot be answered using the information provided, answer with \\n        \"I don\\'t know\".', additional_kwargs={}, response_metadata={}), HumanMessage(content='Context: Modern gaming has evolved rapidly with the introduction of powerful graphics engines and online multiplayer capabilities. Popular platforms include PC, PlayStation, Xbox, and Nintendo Switch. Gamers often use services like Steam, PlayStation Network, and Xbox Live to access a vast library of titles and connect with friends around the world.', additional_kwargs={}, response_metadata={}), HumanMessage(content='Question: Which platforms are popular for gaming?', additional_kwargs={}, response_metadata={})])"
      ]
     },
     "execution_count": null,
     "metadata": {},
     "output_type": "execute_result"
    }
   ],
   "source": [
    "from langchain_core.prompts import ChatPromptTemplate\n",
    "\n",
    "template = ChatPromptTemplate.from_messages(\n",
    "    [\n",
    "        (\n",
    "            \"system\",\n",
    "            \"\"\"Answer the question based on the context below. If the \n",
    "        question cannot be answered using the information provided, answer with \n",
    "        \"I don\\'t know\".\"\"\",\n",
    "        ),\n",
    "        (\"human\", \"Context: {context}\"),\n",
    "        (\"human\", \"Question: {question}\"),\n",
    "    ]\n",
    ")\n",
    "\n",
    "prompt = template.invoke(\n",
    "    {\n",
    "        \"context\": \"\"\"Modern gaming has evolved rapidly with the introduction of powerful graphics engines and online multiplayer capabilities. Popular platforms include PC, PlayStation, Xbox, and Nintendo Switch. Gamers often use services like Steam, PlayStation Network, and Xbox Live to access a vast library of titles and connect with friends around the world.\"\"\",\n",
    "        \"question\": \"Which platforms are popular for gaming?\",\n",
    "    }\n",
    ")\n",
    "\n",
    "prompt"
   ]
  },
  {
   "cell_type": "code",
   "execution_count": null,
   "id": "a730810e",
   "metadata": {},
   "outputs": [
    {
     "data": {
      "text/plain": [
       "AIMessage(content='PC, PlayStation, Xbox, and Nintendo Switch.', additional_kwargs={}, response_metadata={'prompt_feedback': {'block_reason': 0, 'safety_ratings': []}, 'finish_reason': 'STOP', 'model_name': 'gemini-2.0-flash', 'safety_ratings': []}, id='run--2fbbcc12-9bbe-488e-9a29-43d3a9ab7938-0', usage_metadata={'input_tokens': 104, 'output_tokens': 11, 'total_tokens': 115, 'input_token_details': {'cache_read': 0}})"
      ]
     },
     "execution_count": null,
     "metadata": {},
     "output_type": "execute_result"
    }
   ],
   "source": [
    "model.invoke(prompt)"
   ]
  },
  {
   "cell_type": "code",
   "execution_count": null,
   "id": "05000ed8",
   "metadata": {},
   "outputs": [
    {
     "data": {
      "text/plain": [
       "GamingAnswerWithJustification(answer='It is difficult to definitively say which platform is more popular.', justification='Both PC and consoles have large and active online multiplayer communities. The preferred platform often comes down to personal preference, the specific games someone enjoys, and their budget. Generally, consoles are more straightforward to set up for multiplayer, while PCs offer more customization and potentially better graphics, but at a higher cost. Recent trends suggest a blurring of the lines, with cross-platform play becoming more common, allowing players on different platforms to play together. Therefore, popularity is subjective and varies depending on the games and communities being considered. ')"
      ]
     },
     "execution_count": null,
     "metadata": {},
     "output_type": "execute_result"
    }
   ],
   "source": [
    "# JSON Output\n",
    "from pydantic import BaseModel\n",
    "\n",
    "\n",
    "class GamingAnswerWithJustification(BaseModel):\n",
    "    \"\"\"An answer to the user's gaming question along with justification for the\n",
    "    answer.\"\"\"\n",
    "\n",
    "    answer: str\n",
    "    \"\"\"The answer to the user's gaming question\"\"\"\n",
    "    justification: str\n",
    "    \"\"\"Justification for the answer\"\"\"\n",
    "\n",
    "\n",
    "structured_llm = model.with_structured_output(GamingAnswerWithJustification)\n",
    "\n",
    "result = structured_llm.invoke(\n",
    "    \"\"\"Which platform is more popular for online multiplayer gaming, PC or console?\"\"\"\n",
    ")\n",
    "result"
   ]
  },
  {
   "cell_type": "code",
   "execution_count": null,
   "id": "aa3ed82b",
   "metadata": {},
   "outputs": [
    {
     "data": {
      "text/plain": [
       "'{\"answer\":\"It is difficult to definitively say which platform is more popular.\",\"justification\":\"Both PC and consoles have large and active online multiplayer communities. The preferred platform often comes down to personal preference, the specific games someone enjoys, and their budget. Generally, consoles are more straightforward to set up for multiplayer, while PCs offer more customization and potentially better graphics, but at a higher cost. Recent trends suggest a blurring of the lines, with cross-platform play becoming more common, allowing players on different platforms to play together. Therefore, popularity is subjective and varies depending on the games and communities being considered. \"}'"
      ]
     },
     "execution_count": null,
     "metadata": {},
     "output_type": "execute_result"
    }
   ],
   "source": [
    "result.model_dump_json()"
   ]
  },
  {
   "cell_type": "code",
   "execution_count": null,
   "id": "62b10717",
   "metadata": {},
   "outputs": [
    {
     "data": {
      "text/plain": [
       "['apple', 'banana', 'cherry']"
      ]
     },
     "execution_count": null,
     "metadata": {},
     "output_type": "execute_result"
    }
   ],
   "source": [
    "# Output parsing\n",
    "from langchain_core.output_parsers import CommaSeparatedListOutputParser\n",
    "\n",
    "parser = CommaSeparatedListOutputParser()\n",
    "parser.invoke(\"apple, banana, cherry\")"
   ]
  },
  {
   "cell_type": "code",
   "execution_count": null,
   "id": "d7b17f92",
   "metadata": {},
   "outputs": [
    {
     "data": {
      "text/plain": [
       "['Hi there! How can I help you today?',\n",
       " 'Hallo! Wie kann ich dir heute helfen?',\n",
       " \"Bonjour ! Comment puis-je vous aider aujourd'hui ?\",\n",
       " 'Привіт! Радий тебе бачити. Чим можу допомогти?']"
      ]
     },
     "execution_count": null,
     "metadata": {},
     "output_type": "execute_result"
    }
   ],
   "source": [
    "# Batch processing\n",
    "model.batch([\"Hi!\", \"Hallo!\", \"Bonjour!\", \"Привіт!\"])"
   ]
  },
  {
   "cell_type": "code",
   "execution_count": null,
   "id": "e59f181d",
   "metadata": {},
   "outputs": [
    {
     "name": "stdout",
     "output_type": "stream",
     "text": [
      "I\n",
      " am doing well\n",
      ", thank you for asking! As a large language model, I don't\n",
      " experience emotions or feelings in the same way humans do, but I am functioning as intended\n",
      " and ready to assist you. How can I help you today?\n",
      "\n"
     ]
    }
   ],
   "source": [
    "# Streaming processing\n",
    "for token in model.stream(\"How are you?\"):\n",
    "    print(token)"
   ]
  },
  {
   "cell_type": "code",
   "execution_count": null,
   "id": "1dfd5b97",
   "metadata": {},
   "outputs": [
    {
     "data": {
      "text/plain": [
       "'The capital of France is Paris.'"
      ]
     },
     "execution_count": null,
     "metadata": {},
     "output_type": "execute_result"
    }
   ],
   "source": [
    "# Imperative composition\n",
    "from langchain_core.runnables import chain\n",
    "\n",
    "template = ChatPromptTemplate.from_messages(\n",
    "    [\n",
    "        (\"system\", \"You are a helpful assistant.\"),\n",
    "        (\"human\", \"{question}\"),\n",
    "    ]\n",
    ")\n",
    "\n",
    "\n",
    "@chain\n",
    "def chatbot(values):\n",
    "    prompt = template.invoke(values)\n",
    "    return model.invoke(prompt)\n",
    "\n",
    "\n",
    "chatbot.invoke({\"question\": \"What is the capital of France?\"})"
   ]
  },
  {
   "cell_type": "code",
   "execution_count": null,
   "id": "3f64d650",
   "metadata": {},
   "outputs": [
    {
     "name": "stdout",
     "output_type": "stream",
     "text": [
      "The\n",
      " capital of Greece is Athens.\n",
      "\n"
     ]
    }
   ],
   "source": [
    "# Streaming\n",
    "@chain\n",
    "def chatbot(values):\n",
    "    prompt = template.invoke(values)\n",
    "    for token in model.stream(prompt):\n",
    "        yield token\n",
    "\n",
    "\n",
    "for part in chatbot.stream({\"question\": \"What is the capital of Greece?\"}):\n",
    "    print(part)"
   ]
  },
  {
   "cell_type": "code",
   "execution_count": null,
   "id": "ddf861a8",
   "metadata": {},
   "outputs": [
    {
     "data": {
      "text/plain": [
       "\"South Africa doesn't have just one capital! It actually has three:\\n\\n*   **Pretoria** is the administrative capital.\\n*   **Cape Town** is the legislative capital.\\n*   **Bloemfontein** is the judicial capital.\""
      ]
     },
     "execution_count": null,
     "metadata": {},
     "output_type": "execute_result"
    }
   ],
   "source": [
    "# Asynchronous processing\n",
    "@chain\n",
    "async def chatbot(values):\n",
    "    prompt = await template.ainvoke(values)\n",
    "    return await model.ainvoke(prompt)\n",
    "\n",
    "\n",
    "await chatbot.ainvoke({\"question\": \"What is the capital of South Africa?\"})"
   ]
  },
  {
   "cell_type": "code",
   "execution_count": null,
   "id": "a3ffdead",
   "metadata": {},
   "outputs": [
    {
     "data": {
      "text/plain": [
       "'The capital of Italy is Rome.'"
      ]
     },
     "execution_count": null,
     "metadata": {},
     "output_type": "execute_result"
    }
   ],
   "source": [
    "# Declarative composition\n",
    "template = ChatPromptTemplate.from_messages(\n",
    "    [\n",
    "        (\"system\", \"You are a helpful assistant.\"),\n",
    "        (\"human\", \"{question}\"),\n",
    "    ]\n",
    ")\n",
    "\n",
    "chatbot = template | model\n",
    "chatbot.invoke({\"question\": \"What is the capital of Italy?\"})"
   ]
  },
  {
   "cell_type": "code",
   "execution_count": null,
   "id": "55635b80",
   "metadata": {},
   "outputs": [
    {
     "name": "stdout",
     "output_type": "stream",
     "text": [
      "The\n",
      " capital of Spain is Madrid.\n",
      "\n"
     ]
    }
   ],
   "source": [
    "for part in chatbot.stream({\"question\": \"What is the capital of Spain?\"}):\n",
    "    print(part)"
   ]
  },
  {
   "cell_type": "markdown",
   "id": "00aaebbd",
   "metadata": {},
   "source": [
    "## RAG"
   ]
  },
  {
   "cell_type": "code",
   "execution_count": null,
   "id": "6f3aed78",
   "metadata": {},
   "outputs": [
    {
     "data": {
      "text/plain": [
       "[Document(metadata={'source': './waechtersbach.txt'}, page_content='Schloss Wächtersbach stellt die Geburtsstätte unserer Stadt\\ndar. Von Kaiser Barbarossa als Jagd- und Sicherungsburg\\nseines Reichsforsts gegründet siedelten sich von hier aus\\nnach und nach Bauern und Bedienstete der Burg an.\\nIn ihrer Geschichte veränderte sich nicht nur die Stadt, die\\nseit ihrer ersten geschichtlichen Erwähnung im Jahre 1236\\nstetig wächst. Auch die Burg selbst wurde seitdem in vielen\\nAbschnitten erweitert und letztendlich zum Schloss, in dem\\ndie fürstliche Familie zu Ysenburg residierte.\\nDie Gründung der „Waechtersbacher Keramik“, die bis heute\\ninternational berühmt ist, hat letztlich ihren Ursprung im\\nhistorischen Zentrum von Wächtersbach, da Graf Adolf als\\nMitbegründer der einzigartigen Manufaktur ihr den Namen\\nseiner Stadt verlieh.\\nZuletzt diente Schloss Wächtersbach dem Deutschen Ent-\\nwicklungsdienst als Ausbildungsstätte. Seit dem Jahr 1978\\nstand das Schloss Wächtersbach leer und war sich selbst\\nüberlassen.')]"
      ]
     },
     "execution_count": null,
     "metadata": {},
     "output_type": "execute_result"
    }
   ],
   "source": [
    "# Text Loader\n",
    "from langchain_community.document_loaders import TextLoader\n",
    "\n",
    "loader = TextLoader(\"./waechtersbach.txt\")\n",
    "loader.load()"
   ]
  },
  {
   "cell_type": "code",
   "execution_count": null,
   "id": "0d3fe177",
   "metadata": {},
   "outputs": [
    {
     "name": "stderr",
     "output_type": "stream",
     "text": [
      "USER_AGENT environment variable not set, consider setting it to identify your requests.\n"
     ]
    },
    {
     "data": {
      "text/plain": [
       "[Document(metadata={'source': 'https://www.langchain.com/', 'title': 'LangChain', 'description': 'LangChain’s suite of products supports developers along each step of their development journey.', 'language': 'en'}, page_content=\"LangChain\\n\\n\\n\\n\\n\\n\\n\\n\\n\\n\\n\\n\\n\\n\\n\\n\\n\\n\\n\\n\\nProducts\\n\\nFrameworksLangGraphLangChainPlatformsLangSmithLangGraph PlatformResources\\n\\nResources HubBlogCustomer StoriesLangChain AcademyCommunityExpertsChangelogDocs\\n\\nPythonLangGraphLangSmithLangChainJavaScriptLangGraphLangSmithLangChainCompany\\n\\nAboutCareersPricing\\n\\nLangSmithLangGraph PlatformGet a demoSign up\\n\\n\\n\\n\\n\\n\\n\\n\\n\\n\\n\\n\\nProducts\\n\\nFrameworksLangGraphLangChainPlatformsLangSmithLangGraph PlatformResources\\n\\nResources HubBlogCustomer StoriesLangChain AcademyCommunityExpertsChangelogDocs\\n\\nPythonLangGraphLangSmithLangChainJavaScriptLangGraphLangSmithLangChainCompany\\n\\nAboutCareersPricing\\n\\nLangSmithLangGraph PlatformGet a demoSign upThe platform for reliable agents. Tools for every step of the agent development lifecycle -- built to unlock powerful AI\\xa0in production.Request a demoSee the docs\\n\\nLangGraph Platform, our infrastructure for deploying and managing agents at scale, is now generally available. Learn how to deploy here.LangChain products power top engineering teams, from startups to global enterprisesAccelerate agent development.Build faster with templates & a visual agent IDE. Reuse, configure, and combine agents to go further with less code.Ship reliable agents.Design agents that can handle sophisticated tasks with control. Add human-in-the-loop to steer and approve agent actions.Gain visibility & improve quality.See what’s happening - so you can quickly trace to root cause and debug issues. Evaluate your agent performance to improve over time.The Agent StackORCHESTRATION:Build agents with LangGraphControllable agent orchestration with built-in persistence to handle conversational history, memory, and agent-to-agent collaboration.INTEGRATIONS:Integrate components with LangChainIntegrate with the latest models, databases, and tools with no engineering overhead.EVALS\\xa0&\\xa0OBSERVABILITY:Gain visibility with LangSmithDebug poor-performing LLM app runs. Evaluate and observe agent performance at scale.DEPLOYMENT:Deploy &\\xa0manage with LangGraph PlatformDeploy and scale enterprise-grade agents with long-running workflows. Discover, reuse, and share agents across teams — and iterate faster with LangGraph Studio.CopilotsBuild native co-pilots into your application to unlock new end user experiences for domain-specific tasks.Enterprise GPTGive all employees access\\u2028to information and tools\\u2028in a compliant manner so they\\u2028can perform their best.Customer SupportImprove the speed & efficiency\\u2028of support teams that handle customer requests.ResearchSynthesize data, summarize sources & uncover insights faster than ever for knowledge work.Code generationAccelerate software development by automating code writing, refactoring, and documentation for your team.AI SearchOffer a concierge experience to guide users to products or information in a personalized way.\\n\\n\\n\\n\\n\\nLangChain products are designed to be used independently or stack for multiplicative benefit. LangChainLangGraphFrameworksLangSmithLangGraph PlatformPlatformsFrameworksLangChainLangGraphPlatformsLangSmithLangGraph \\u2028PlatformSTACK 1:\\xa0LangGraph +\\xa0LangChain +\\xa0LangSmith +\\xa0LangGraph\\xa0PlatformA full product suite for reliable agents and LLM appsLangChain's products work seamlessly together to provide an integrated solution for every step of the application development journey. When you use all LangChain products, you'll build better, get to production quicker, and grow visibility -- all with less set up and friction. LangChain provides the smoothest path to high quality agents.Orchestration:Integrations:Evals + Observability:Deployment:STACK 2: No framework +\\xa0LangSmithTrace\\xa0and evaluate any LLM appLangSmith is framework-agnostic. Trace using the TypeScript or Python SDK\\xa0to gain visibility into your agent interactions -- whether you use LangChain's frameworks or not.Orchestration:Your choiceEvals + Observability:STACK 3:\\xa0Any agent framework +\\xa0LangGraph PlatformBuild agents any way you want, then deploy and scale with easeLangGraph Platform works with any agent framework, enabling stateful UXs like human-in-the-loop and streaming-native deployments.Orchestration:Your choiceDeployment:Get inspired by companies who have done it.Teams building with LangChain products are driving operational efficiency, increasing discovery & personalization, and delivering premium products that generate revenue.Discover Use Cases\\n\\n\\nFinancial ServicesKlarna's AI assistant has reduced average customer query resolution time by 80%, powered by LangSmith and LangGraph\\n\\n\\nTransportationThis global logistics provider is saving 600 hours a day using an automated order system built on LangGraph and LangSmith\\n\\n\\nSecurityAs a leading cybersecurity firm with 40k+ customers, Trellix cut log parsing from days to minutes using LangGraph and LangSmith.\\n\\n\\nThe biggest developer community in GenAILearn alongside the 1M+ practitioners using our frameworks to push the industry forward.#1Downloaded agent framework100k+GitHub stars#1Downloaded agent framework600+IntegrationsReady to start shipping \\u2028reliable agents faster?Get started with tools from the LangChain product suite for every step of the agent development lifecycle.Get a demoSign up for freeProductsLangChainLangSmithLangGraphAgentsEvaluationRetrievalResourcesPython DocsJS/TS DocsGitHubIntegrationsChangelogCommunityLangSmith Trust PortalCompanyAboutCareersBlogTwitterLinkedInYouTubeMarketing AssetsSign up for our newsletter to stay up to dateThank you! Your submission has been received!Oops! Something went wrong while submitting the form.All systems operationalPrivacy PolicyTerms of Service\\n\\n\\n\\n\\n\\n\\n\\n\\n\")]"
      ]
     },
     "execution_count": null,
     "metadata": {},
     "output_type": "execute_result"
    }
   ],
   "source": [
    "# Web Loader\n",
    "from langchain_community.document_loaders import WebBaseLoader\n",
    "\n",
    "loader = WebBaseLoader(\"https://www.langchain.com/\")\n",
    "loader.load()"
   ]
  },
  {
   "cell_type": "code",
   "execution_count": null,
   "id": "42bedca6",
   "metadata": {},
   "outputs": [
    {
     "data": {
      "text/plain": [
       "[Document(metadata={'producer': 'Adobe PDF Library 15.0', 'creator': 'Adobe InDesign CC 14.0 (Macintosh)', 'creationdate': '2019-04-18T16:23:08+02:00', 'moddate': '2019-05-17T08:37:38+02:00', 'trapped': '/False', 'source': 'waechtersbach.pdf', 'total_pages': 8, 'page': 0, 'page_label': '1'}, page_content='Meilenstein der\\nStadtgeschichte\\nWerden Sie'),\n",
       " Document(metadata={'producer': 'Adobe PDF Library 15.0', 'creator': 'Adobe InDesign CC 14.0 (Macintosh)', 'creationdate': '2019-04-18T16:23:08+02:00', 'moddate': '2019-05-17T08:37:38+02:00', 'trapped': '/False', 'source': 'waechtersbach.pdf', 'total_pages': 8, 'page': 1, 'page_label': '2'}, page_content='Schloss Wächtersbach stellt die Geburtsstätte unserer Stadt \\ndar. Von Kaiser Barbarossa als Jagd- und Sicherungsburg \\nseines Reichsforsts gegründet siedelten sich von hier aus \\nnach und nach Bauern und Bedienstete der Burg an.\\nIn ihrer Geschichte veränderte sich nicht nur die Stadt, die \\nseit ihrer ersten geschichtlichen Erwähnung im Jahre 1236 \\nstetig wächst. Auch die Burg selbst wurde seitdem in vielen \\nAbschnitten erweitert und letztendlich zum Schloss, in dem  \\ndie fürstliche Familie zu Ysenburg residierte.\\nDie Gründung der „Waechtersbacher Keramik“, die bis heute \\ninternational berühmt ist, hat letztlich ihren Ursprung im \\nhistorischen Zentrum von Wächtersbach, da Graf Adolf als \\nMitbegründer der einzigartigen Manufaktur ihr den Namen \\nseiner Stadt verlieh. \\nZuletzt diente Schloss Wächtersbach dem Deutschen Ent-\\nwicklungsdienst als Ausbildungsstätte. Seit dem Jahr 1978 \\nstand das Schloss Wächtersbach leer und war sich selbst \\nüberlassen.\\nS chloss Wächtersbach: Die Geburtsstätte unserer Stadt'),\n",
       " Document(metadata={'producer': 'Adobe PDF Library 15.0', 'creator': 'Adobe InDesign CC 14.0 (Macintosh)', 'creationdate': '2019-04-18T16:23:08+02:00', 'moddate': '2019-05-17T08:37:38+02:00', 'trapped': '/False', 'source': 'waechtersbach.pdf', 'total_pages': 8, 'page': 2, 'page_label': '3'}, page_content='Kurz vor seinem vollkommenen Zerfall steht Schloss Wächtersbach nun vor \\neinem weiteren historischen Meilenstein in seiner Geschichte. Denn der Stadt \\nWächtersbach ist es gelungen, das historische Gebäude zu erwerben. Derzeit \\nwird es aufwändig und unter strengen denkmalschutzrechtlichen Auflagen saniert, \\num es später als Sitz der Stadtverwaltung zu nutzen. Darüber hinaus wird es \\naber mit einer Ausstellung zu seiner Geschichte und der fürstlichen Familie, mit \\nGastronomie und einem Veranstaltungssaal frei zugänglich sein für alle, die sich \\nfür Schloss Wächtersbach und seine Geschichte interessieren.\\nZusammen mit dem Kauf des ehemaligen Brauereigeländes und der Aufnahme in \\ndas Förderprogramm „Stadtumbau“, gehört der Erwerb von Schloss Wächters-\\nbach somit zu den umfangreichsten Maßnahmen, die die Stadt Wächtersbach in \\nihrer jüngeren Geschichte zur Entwicklung des historischen Stadtkerns begonnen \\nhat. Mit diesen Projekten wird unsere Stadt nicht nur verschönert, sondern die \\nProjekte tragen in ihrer Gesamtheit ganz besonders zur Wiederbelebung der \\nWächtersbacher Altstadt bei.\\nEin weiterer Meilenstein für unsere Stadt \\nEine Vision wird Wirklichkeit'),\n",
       " Document(metadata={'producer': 'Adobe PDF Library 15.0', 'creator': 'Adobe InDesign CC 14.0 (Macintosh)', 'creationdate': '2019-04-18T16:23:08+02:00', 'moddate': '2019-05-17T08:37:38+02:00', 'trapped': '/False', 'source': 'waechtersbach.pdf', 'total_pages': 8, 'page': 3, 'page_label': '4'}, page_content='Bereits im Jahr 2016 haben die Stadt Wächtersbach und \\nder Förderverein Schloss + Park 2001 e.V. ein Spenden-\\nkonto für die „Schloss- und Parkverschönerung“ einge-\\nrichtet, das der Förderverein verwaltet und dessen Spen-\\ndengelder nicht in die Baufinanzierung fließen werden.\\nIn der Zwischenzeit häufen sich die Wünsche vieler \\nMenschen, eine Spende einem besonderen Objekt im \\nSchloss zuordnen zu können, das dann dauerhaft ihren \\nNamen trägt. Deshalb wird nun die bisherige Aktion \\nerweitert.\\nIn Zusammenarbeit mit dem Förderverein Schloss + Park \\n2001 e.V. wird die Stadt Wächtersbach daher dieses große \\nInteresse aufgreifen und ruft damit die Spendenaktion \\n„Werden Sie ein Meilenstein der Stadtgeschichte“ ins \\nLeben.\\nGeben Sie unserem Schloss eine Zukunft \\nSpenden Sie für diesen Meilenstein der Stadtgeschichte\\n•  Für Ihre Spende erhalten Sie einen  \\n Stiftungsbrief\\n•  Ab 100 Euro verewigen wir Ihren  \\n Namen auf unserer Spendentafel im  \\n Innenhof von Schloss Wächtersbach\\n•  Ab einer Spendenhöhe von 500 Euro  \\n erhalten Sie eine persönliche Plakette  \\n auf einem besonderen Objekt'),\n",
       " Document(metadata={'producer': 'Adobe PDF Library 15.0', 'creator': 'Adobe InDesign CC 14.0 (Macintosh)', 'creationdate': '2019-04-18T16:23:08+02:00', 'moddate': '2019-05-17T08:37:38+02:00', 'trapped': '/False', 'source': 'waechtersbach.pdf', 'total_pages': 8, 'page': 4, 'page_label': '5'}, page_content='Spendengelder werden in jeder Höhe angenommen. Ab einem Spendenbetrag in Höhe von \\n100 Euro wird, wenn gewünscht, der Name der Spenderin / des Spenders als Meilenstein \\nin Edelstahl-Tafeln graviert. Diese Tafeln werden nach Abschluss der Sanierungsarbeiten \\nsichtbar und allgemein zugänglich im Innenhof von Schloss Wächtersbach unter der Über-\\nschrift „Meilensteine der Stadtgeschichte“ verewigt. Die Höhe der Spende bleibt anonym, \\nkann aber auf Wunsch mit aufgeführt werden.\\nDarüber hinaus gibt es die Option, die Spende einem besonderen Objekt in Schloss \\nWächtersbach zu widmen. Zusätzlich zur Edelstahl-Tafel wird das betreffende Objekt mit \\neiner Plakette versehen, die dauerhaft den Namen der Spenderin/des Spenders trägt (z. B. \\n„Diese Treppenstufe ist gewidmet der Spende - 200 Euro - von Max Mustermann“).\\n• Stufe auf der historischen und restaurierten Treppe (200 Euro pro Stufe)\\n• Standard-Fenster (500 Euro pro Fenster)\\n• Fenster im Veranstaltungssaal (1.000 Euro pro Fenster)\\n• Restauriertes Fenster im historischen Treppenhaus (2.000 Euro pro Fenster)\\n• Restaurierte Tür (2.000 Euro pro Tür)\\n• Restauriertes Sandsteingesimse (2.000 Euro pro Sandsteingesimse)\\n• Kamingesims (5.000 Euro pro Kamingesimse)\\nWie werden Sie selbst \\nMeilenstein der\\nStadtgeschichte?\\nJeder hat die Möglichkeit, eine Spende für das Projekt zu leisten\\nDas öffentliche Interesse an \\nden aktuellen Entwicklungen \\nvon Schloss Wächtersbach \\nist enorm. Nicht nur bei den \\nBürgerinnen und Bürgern von \\nWächtersbach. Auch über \\ndie Grenzen unserer Stadt \\nhinweg interessiert man sich \\nauf Kreis-, Landes- und selbst \\nauf Bundesebene für die \\nbeachtlichen Entwicklungen \\nin Wächtersbach.'),\n",
       " Document(metadata={'producer': 'Adobe PDF Library 15.0', 'creator': 'Adobe InDesign CC 14.0 (Macintosh)', 'creationdate': '2019-04-18T16:23:08+02:00', 'moddate': '2019-05-17T08:37:38+02:00', 'trapped': '/False', 'source': 'waechtersbach.pdf', 'total_pages': 8, 'page': 5, 'page_label': '6'}, page_content='Bei Interesse an einer Spende füllen Sie hierzu die notwendige \\nSpendenerklärung aus. Diese können Sie im Internet unter \\nwww.stadt-waechtersbach.de oder www.schloss-waechtersbach.de \\nherunterladen. Sie erhalten das Formular natürlich auch im Rat- \\nhaus der Stadt Wächtersbach. Die ausgefüllte Spendenerklärung \\nist an den Förderverein Schloss + Park 2001 e.V. zu übersenden. \\nNach Eingang der Spende auf das extra eingerichtete Sonder- \\nkonto erhalten Sie vom Förderverein Schloss + Park 2001 e.V. \\neine Spendenquittung, die Sie für steuerliche Zwecke verwenden \\nkönnen. Außerdem erhalten alle Spenderinnen und Spender \\neinen Stiftungsbrief mit Angaben zur Höhe der Spende und zum \\nbetreffenden Objekt, dem die Spende ggf. gewidmet wurde.\\nUnd so spenden Sie ...\\nEine Spende eignet sich auch als \\naußergewöhnliches Geschenk für Familie, \\nFreunde oder Geschäftspartner.'),\n",
       " Document(metadata={'producer': 'Adobe PDF Library 15.0', 'creator': 'Adobe InDesign CC 14.0 (Macintosh)', 'creationdate': '2019-04-18T16:23:08+02:00', 'moddate': '2019-05-17T08:37:38+02:00', 'trapped': '/False', 'source': 'waechtersbach.pdf', 'total_pages': 8, 'page': 6, 'page_label': '7'}, page_content='Zur Klarstellung sei nochmals erwähnt, dass die Finanzierung \\nder Sanierung von Schloss Wächtersbach gesichert ist. \\nDie Spendengelder werden auf dem Sonderkonto des \\nFörderverein Schloss + Park 2001 e.V. verwahrt und später \\nzweckgebunden verwendet, um Verschönerungen an und um \\nSchloss Wächtersbach vorzunehmen, die den Bürgerinnen \\nund Bürgern zugutekommen. Für bauliche Finanzierung \\noder den Verein wird das Spendenkonto ausdrücklich nicht \\nverwendet.\\nAuf der Internetseite www.schloss-waechtersbach.de können \\nSie die weitere Entwicklung von Schloss Wächtersbach \\nverfolgen.\\nV erwendung der Spenden V erfolgen Sie die Entwicklung'),\n",
       " Document(metadata={'producer': 'Adobe PDF Library 15.0', 'creator': 'Adobe InDesign CC 14.0 (Macintosh)', 'creationdate': '2019-04-18T16:23:08+02:00', 'moddate': '2019-05-17T08:37:38+02:00', 'trapped': '/False', 'source': 'waechtersbach.pdf', 'total_pages': 8, 'page': 7, 'page_label': '8'}, page_content='Magistrat der Stadt Wächtersbach\\nNikolai Kailing\\nMain-Kinzig-Straße 31\\n63607 Wächtersbach\\nTelefon: 0 60 53 - 80 2-72\\nn.kailing@stadt-waechtersbach.de\\nFörderverein Schloss + Park 2001 e.V.\\nHeike Horn\\nKarl-Fröb-Straße 14\\n63607 Wächtersbach\\nTelefon: 01 72 - 988 06 28\\nhorn-weyde@t-online.de')]"
      ]
     },
     "execution_count": null,
     "metadata": {},
     "output_type": "execute_result"
    }
   ],
   "source": [
    "# PDF Loader\n",
    "from langchain_community.document_loaders import PyPDFLoader\n",
    "\n",
    "loader = PyPDFLoader(\"waechtersbach.pdf\")\n",
    "pages = loader.load()\n",
    "pages"
   ]
  },
  {
   "cell_type": "code",
   "execution_count": null,
   "id": "73ab4e8b",
   "metadata": {},
   "outputs": [
    {
     "data": {
      "text/plain": [
       "[Document(metadata={'producer': 'Adobe PDF Library 15.0', 'creator': 'Adobe InDesign CC 14.0 (Macintosh)', 'creationdate': '2019-04-18T16:23:08+02:00', 'moddate': '2019-05-17T08:37:38+02:00', 'trapped': '/False', 'source': './waechtersbach.pdf', 'total_pages': 8, 'page': 0, 'page_label': '1'}, page_content='Meilenstein der\\nStadtgeschichte\\nWerden Sie'),\n",
       " Document(metadata={'producer': 'Adobe PDF Library 15.0', 'creator': 'Adobe InDesign CC 14.0 (Macintosh)', 'creationdate': '2019-04-18T16:23:08+02:00', 'moddate': '2019-05-17T08:37:38+02:00', 'trapped': '/False', 'source': './waechtersbach.pdf', 'total_pages': 8, 'page': 1, 'page_label': '2'}, page_content='Schloss Wächtersbach stellt die Geburtsstätte unserer Stadt \\ndar. Von Kaiser Barbarossa als Jagd- und Sicherungsburg \\nseines Reichsforsts gegründet siedelten sich von hier aus \\nnach und nach Bauern und Bedienstete der Burg an.\\nIn ihrer Geschichte veränderte sich nicht nur die Stadt, die \\nseit ihrer ersten geschichtlichen Erwähnung im Jahre 1236 \\nstetig wächst. Auch die Burg selbst wurde seitdem in vielen \\nAbschnitten erweitert und letztendlich zum Schloss, in dem  \\ndie fürstliche Familie zu Ysenburg residierte.\\nDie Gründung der „Waechtersbacher Keramik“, die bis heute \\ninternational berühmt ist, hat letztlich ihren Ursprung im \\nhistorischen Zentrum von Wächtersbach, da Graf Adolf als \\nMitbegründer der einzigartigen Manufaktur ihr den Namen \\nseiner Stadt verlieh. \\nZuletzt diente Schloss Wächtersbach dem Deutschen Ent-\\nwicklungsdienst als Ausbildungsstätte. Seit dem Jahr 1978 \\nstand das Schloss Wächtersbach leer und war sich selbst \\nüberlassen.'),\n",
       " Document(metadata={'producer': 'Adobe PDF Library 15.0', 'creator': 'Adobe InDesign CC 14.0 (Macintosh)', 'creationdate': '2019-04-18T16:23:08+02:00', 'moddate': '2019-05-17T08:37:38+02:00', 'trapped': '/False', 'source': './waechtersbach.pdf', 'total_pages': 8, 'page': 1, 'page_label': '2'}, page_content='Zuletzt diente Schloss Wächtersbach dem Deutschen Ent-\\nwicklungsdienst als Ausbildungsstätte. Seit dem Jahr 1978 \\nstand das Schloss Wächtersbach leer und war sich selbst \\nüberlassen.\\nS chloss Wächtersbach: Die Geburtsstätte unserer Stadt'),\n",
       " Document(metadata={'producer': 'Adobe PDF Library 15.0', 'creator': 'Adobe InDesign CC 14.0 (Macintosh)', 'creationdate': '2019-04-18T16:23:08+02:00', 'moddate': '2019-05-17T08:37:38+02:00', 'trapped': '/False', 'source': './waechtersbach.pdf', 'total_pages': 8, 'page': 2, 'page_label': '3'}, page_content='Kurz vor seinem vollkommenen Zerfall steht Schloss Wächtersbach nun vor \\neinem weiteren historischen Meilenstein in seiner Geschichte. Denn der Stadt \\nWächtersbach ist es gelungen, das historische Gebäude zu erwerben. Derzeit \\nwird es aufwändig und unter strengen denkmalschutzrechtlichen Auflagen saniert, \\num es später als Sitz der Stadtverwaltung zu nutzen. Darüber hinaus wird es \\naber mit einer Ausstellung zu seiner Geschichte und der fürstlichen Familie, mit \\nGastronomie und einem Veranstaltungssaal frei zugänglich sein für alle, die sich \\nfür Schloss Wächtersbach und seine Geschichte interessieren.\\nZusammen mit dem Kauf des ehemaligen Brauereigeländes und der Aufnahme in \\ndas Förderprogramm „Stadtumbau“, gehört der Erwerb von Schloss Wächters-\\nbach somit zu den umfangreichsten Maßnahmen, die die Stadt Wächtersbach in \\nihrer jüngeren Geschichte zur Entwicklung des historischen Stadtkerns begonnen \\nhat. Mit diesen Projekten wird unsere Stadt nicht nur verschönert, sondern die'),\n",
       " Document(metadata={'producer': 'Adobe PDF Library 15.0', 'creator': 'Adobe InDesign CC 14.0 (Macintosh)', 'creationdate': '2019-04-18T16:23:08+02:00', 'moddate': '2019-05-17T08:37:38+02:00', 'trapped': '/False', 'source': './waechtersbach.pdf', 'total_pages': 8, 'page': 2, 'page_label': '3'}, page_content='ihrer jüngeren Geschichte zur Entwicklung des historischen Stadtkerns begonnen \\nhat. Mit diesen Projekten wird unsere Stadt nicht nur verschönert, sondern die \\nProjekte tragen in ihrer Gesamtheit ganz besonders zur Wiederbelebung der \\nWächtersbacher Altstadt bei.\\nEin weiterer Meilenstein für unsere Stadt \\nEine Vision wird Wirklichkeit'),\n",
       " Document(metadata={'producer': 'Adobe PDF Library 15.0', 'creator': 'Adobe InDesign CC 14.0 (Macintosh)', 'creationdate': '2019-04-18T16:23:08+02:00', 'moddate': '2019-05-17T08:37:38+02:00', 'trapped': '/False', 'source': './waechtersbach.pdf', 'total_pages': 8, 'page': 3, 'page_label': '4'}, page_content='Bereits im Jahr 2016 haben die Stadt Wächtersbach und \\nder Förderverein Schloss + Park 2001 e.V. ein Spenden-\\nkonto für die „Schloss- und Parkverschönerung“ einge-\\nrichtet, das der Förderverein verwaltet und dessen Spen-\\ndengelder nicht in die Baufinanzierung fließen werden.\\nIn der Zwischenzeit häufen sich die Wünsche vieler \\nMenschen, eine Spende einem besonderen Objekt im \\nSchloss zuordnen zu können, das dann dauerhaft ihren \\nNamen trägt. Deshalb wird nun die bisherige Aktion \\nerweitert.\\nIn Zusammenarbeit mit dem Förderverein Schloss + Park \\n2001 e.V. wird die Stadt Wächtersbach daher dieses große \\nInteresse aufgreifen und ruft damit die Spendenaktion \\n„Werden Sie ein Meilenstein der Stadtgeschichte“ ins \\nLeben.\\nGeben Sie unserem Schloss eine Zukunft \\nSpenden Sie für diesen Meilenstein der Stadtgeschichte\\n•  Für Ihre Spende erhalten Sie einen  \\n Stiftungsbrief\\n•  Ab 100 Euro verewigen wir Ihren  \\n Namen auf unserer Spendentafel im  \\n Innenhof von Schloss Wächtersbach'),\n",
       " Document(metadata={'producer': 'Adobe PDF Library 15.0', 'creator': 'Adobe InDesign CC 14.0 (Macintosh)', 'creationdate': '2019-04-18T16:23:08+02:00', 'moddate': '2019-05-17T08:37:38+02:00', 'trapped': '/False', 'source': './waechtersbach.pdf', 'total_pages': 8, 'page': 3, 'page_label': '4'}, page_content='•  Für Ihre Spende erhalten Sie einen  \\n Stiftungsbrief\\n•  Ab 100 Euro verewigen wir Ihren  \\n Namen auf unserer Spendentafel im  \\n Innenhof von Schloss Wächtersbach\\n•  Ab einer Spendenhöhe von 500 Euro  \\n erhalten Sie eine persönliche Plakette  \\n auf einem besonderen Objekt'),\n",
       " Document(metadata={'producer': 'Adobe PDF Library 15.0', 'creator': 'Adobe InDesign CC 14.0 (Macintosh)', 'creationdate': '2019-04-18T16:23:08+02:00', 'moddate': '2019-05-17T08:37:38+02:00', 'trapped': '/False', 'source': './waechtersbach.pdf', 'total_pages': 8, 'page': 4, 'page_label': '5'}, page_content='Spendengelder werden in jeder Höhe angenommen. Ab einem Spendenbetrag in Höhe von \\n100 Euro wird, wenn gewünscht, der Name der Spenderin / des Spenders als Meilenstein \\nin Edelstahl-Tafeln graviert. Diese Tafeln werden nach Abschluss der Sanierungsarbeiten \\nsichtbar und allgemein zugänglich im Innenhof von Schloss Wächtersbach unter der Über-\\nschrift „Meilensteine der Stadtgeschichte“ verewigt. Die Höhe der Spende bleibt anonym, \\nkann aber auf Wunsch mit aufgeführt werden.\\nDarüber hinaus gibt es die Option, die Spende einem besonderen Objekt in Schloss \\nWächtersbach zu widmen. Zusätzlich zur Edelstahl-Tafel wird das betreffende Objekt mit \\neiner Plakette versehen, die dauerhaft den Namen der Spenderin/des Spenders trägt (z. B. \\n„Diese Treppenstufe ist gewidmet der Spende - 200 Euro - von Max Mustermann“).\\n• Stufe auf der historischen und restaurierten Treppe (200 Euro pro Stufe)\\n• Standard-Fenster (500 Euro pro Fenster)\\n• Fenster im Veranstaltungssaal (1.000 Euro pro Fenster)'),\n",
       " Document(metadata={'producer': 'Adobe PDF Library 15.0', 'creator': 'Adobe InDesign CC 14.0 (Macintosh)', 'creationdate': '2019-04-18T16:23:08+02:00', 'moddate': '2019-05-17T08:37:38+02:00', 'trapped': '/False', 'source': './waechtersbach.pdf', 'total_pages': 8, 'page': 4, 'page_label': '5'}, page_content='• Stufe auf der historischen und restaurierten Treppe (200 Euro pro Stufe)\\n• Standard-Fenster (500 Euro pro Fenster)\\n• Fenster im Veranstaltungssaal (1.000 Euro pro Fenster)\\n• Restauriertes Fenster im historischen Treppenhaus (2.000 Euro pro Fenster)\\n• Restaurierte Tür (2.000 Euro pro Tür)\\n• Restauriertes Sandsteingesimse (2.000 Euro pro Sandsteingesimse)\\n• Kamingesims (5.000 Euro pro Kamingesimse)\\nWie werden Sie selbst \\nMeilenstein der\\nStadtgeschichte?\\nJeder hat die Möglichkeit, eine Spende für das Projekt zu leisten\\nDas öffentliche Interesse an \\nden aktuellen Entwicklungen \\nvon Schloss Wächtersbach \\nist enorm. Nicht nur bei den \\nBürgerinnen und Bürgern von \\nWächtersbach. Auch über \\ndie Grenzen unserer Stadt \\nhinweg interessiert man sich \\nauf Kreis-, Landes- und selbst \\nauf Bundesebene für die \\nbeachtlichen Entwicklungen \\nin Wächtersbach.'),\n",
       " Document(metadata={'producer': 'Adobe PDF Library 15.0', 'creator': 'Adobe InDesign CC 14.0 (Macintosh)', 'creationdate': '2019-04-18T16:23:08+02:00', 'moddate': '2019-05-17T08:37:38+02:00', 'trapped': '/False', 'source': './waechtersbach.pdf', 'total_pages': 8, 'page': 5, 'page_label': '6'}, page_content='Bei Interesse an einer Spende füllen Sie hierzu die notwendige \\nSpendenerklärung aus. Diese können Sie im Internet unter \\nwww.stadt-waechtersbach.de oder www.schloss-waechtersbach.de \\nherunterladen. Sie erhalten das Formular natürlich auch im Rat- \\nhaus der Stadt Wächtersbach. Die ausgefüllte Spendenerklärung \\nist an den Förderverein Schloss + Park 2001 e.V. zu übersenden. \\nNach Eingang der Spende auf das extra eingerichtete Sonder- \\nkonto erhalten Sie vom Förderverein Schloss + Park 2001 e.V. \\neine Spendenquittung, die Sie für steuerliche Zwecke verwenden \\nkönnen. Außerdem erhalten alle Spenderinnen und Spender \\neinen Stiftungsbrief mit Angaben zur Höhe der Spende und zum \\nbetreffenden Objekt, dem die Spende ggf. gewidmet wurde.\\nUnd so spenden Sie ...\\nEine Spende eignet sich auch als \\naußergewöhnliches Geschenk für Familie, \\nFreunde oder Geschäftspartner.'),\n",
       " Document(metadata={'producer': 'Adobe PDF Library 15.0', 'creator': 'Adobe InDesign CC 14.0 (Macintosh)', 'creationdate': '2019-04-18T16:23:08+02:00', 'moddate': '2019-05-17T08:37:38+02:00', 'trapped': '/False', 'source': './waechtersbach.pdf', 'total_pages': 8, 'page': 6, 'page_label': '7'}, page_content='Zur Klarstellung sei nochmals erwähnt, dass die Finanzierung \\nder Sanierung von Schloss Wächtersbach gesichert ist. \\nDie Spendengelder werden auf dem Sonderkonto des \\nFörderverein Schloss + Park 2001 e.V. verwahrt und später \\nzweckgebunden verwendet, um Verschönerungen an und um \\nSchloss Wächtersbach vorzunehmen, die den Bürgerinnen \\nund Bürgern zugutekommen. Für bauliche Finanzierung \\noder den Verein wird das Spendenkonto ausdrücklich nicht \\nverwendet.\\nAuf der Internetseite www.schloss-waechtersbach.de können \\nSie die weitere Entwicklung von Schloss Wächtersbach \\nverfolgen.\\nV erwendung der Spenden V erfolgen Sie die Entwicklung'),\n",
       " Document(metadata={'producer': 'Adobe PDF Library 15.0', 'creator': 'Adobe InDesign CC 14.0 (Macintosh)', 'creationdate': '2019-04-18T16:23:08+02:00', 'moddate': '2019-05-17T08:37:38+02:00', 'trapped': '/False', 'source': './waechtersbach.pdf', 'total_pages': 8, 'page': 7, 'page_label': '8'}, page_content='Magistrat der Stadt Wächtersbach\\nNikolai Kailing\\nMain-Kinzig-Straße 31\\n63607 Wächtersbach\\nTelefon: 0 60 53 - 80 2-72\\nn.kailing@stadt-waechtersbach.de\\nFörderverein Schloss + Park 2001 e.V.\\nHeike Horn\\nKarl-Fröb-Straße 14\\n63607 Wächtersbach\\nTelefon: 01 72 - 988 06 28\\nhorn-weyde@t-online.de')]"
      ]
     },
     "execution_count": null,
     "metadata": {},
     "output_type": "execute_result"
    }
   ],
   "source": [
    "# Text Splitter\n",
    "from langchain_text_splitters import RecursiveCharacterTextSplitter\n",
    "\n",
    "loader = PyPDFLoader(\"./waechtersbach.pdf\")\n",
    "docs = loader.load()\n",
    "\n",
    "splitter = RecursiveCharacterTextSplitter(\n",
    "    chunk_size=1000,\n",
    "    chunk_overlap=200,\n",
    ")\n",
    "splitted_docs = splitter.split_documents(docs)\n",
    "splitted_docs"
   ]
  },
  {
   "cell_type": "code",
   "execution_count": null,
   "id": "19282da0",
   "metadata": {},
   "outputs": [
    {
     "data": {
      "text/plain": [
       "[Document(metadata={}, page_content='def faktorial(n):\\n    if n == 0:\\n        return 1'),\n",
       " Document(metadata={}, page_content='else:\\n        return n * faktorial(n - 1)'),\n",
       " Document(metadata={}, page_content='faktorial(5)')]"
      ]
     },
     "execution_count": null,
     "metadata": {},
     "output_type": "execute_result"
    }
   ],
   "source": [
    "# Text Splitter for programming languages\n",
    "from langchain_text_splitters import (\n",
    "    Language,\n",
    "    RecursiveCharacterTextSplitter,\n",
    ")\n",
    "\n",
    "code = \"\"\"\n",
    "def faktorial(n):\n",
    "    if n == 0:\n",
    "        return 1\n",
    "    else:\n",
    "        return n * faktorial(n - 1)\n",
    "faktorial(5)\n",
    "\"\"\"\n",
    "python_splitter = RecursiveCharacterTextSplitter.from_language(\n",
    "    language=Language.PYTHON, chunk_size=50, chunk_overlap=0\n",
    ")\n",
    "python_docs = python_splitter.create_documents([code])\n",
    "python_docs"
   ]
  },
  {
   "cell_type": "code",
   "execution_count": null,
   "id": "48d74243",
   "metadata": {},
   "outputs": [],
   "source": []
  }
 ],
 "metadata": {
  "kernelspec": {
   "display_name": "Python 3",
   "language": "python",
   "name": "python3"
  },
  "language_info": {
   "codemirror_mode": {
    "name": "ipython",
    "version": 3
   },
   "file_extension": ".py",
   "mimetype": "text/x-python",
   "name": "python",
   "nbconvert_exporter": "python",
   "pygments_lexer": "ipython3"
  }
 },
 "nbformat": 4,
 "nbformat_minor": 5
}
